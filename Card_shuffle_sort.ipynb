{
  "nbformat": 4,
  "nbformat_minor": 0,
  "metadata": {
    "colab": {
      "name": "Card_shuffle_sort.ipynb",
      "provenance": [],
      "collapsed_sections": []
    },
    "kernelspec": {
      "name": "python3",
      "display_name": "Python 3"
    }
  },
  "cells": [
    {
      "cell_type": "markdown",
      "metadata": {
        "id": "4oOrFz-PT4qw"
      },
      "source": [
        "# Колода карт\r\n",
        "\r\n",
        "Маємо послідовність додатніх цілих чисел довжиною **k**. З колодою можна робити наступні операції:\r\n",
        "\r\n",
        "\r\n",
        "1.   Міняти місцями два останні елементи колоди.\r\n",
        "2.   Переставляти останній елемент колоди на початок так, що індекси всіх наступних елементів збільшуються на 1, тобто перший стає другим, передостанній-останнім.\r\n",
        "\r\n",
        "Потрібно відсортувати колоду за зростанням за час **k**.\r\n",
        "\r\n"
      ]
    },
    {
      "cell_type": "code",
      "metadata": {
        "id": "sRlDYli5Act4"
      },
      "source": [
        "import random as r"
      ],
      "execution_count": 1,
      "outputs": []
    },
    {
      "cell_type": "code",
      "metadata": {
        "colab": {
          "base_uri": "https://localhost:8080/"
        },
        "id": "hBBNguFsA4F6",
        "outputId": "6a94d03c-cb6f-419e-c301-365c856dd3aa"
      },
      "source": [
        "cards = [r.randint(1, 20) for i in range(20)]\r\n",
        "# cards = [i for i in range(1, 11)]\r\n",
        "cards"
      ],
      "execution_count": 39,
      "outputs": [
        {
          "output_type": "execute_result",
          "data": {
            "text/plain": [
              "[20, 2, 12, 15, 6, 13, 6, 15, 16, 7, 8, 10, 12, 16, 5, 10, 13, 20, 10, 6]"
            ]
          },
          "metadata": {
            "tags": []
          },
          "execution_count": 39
        }
      ]
    },
    {
      "cell_type": "code",
      "metadata": {
        "id": "_X-Whok8HHXI"
      },
      "source": [
        "## Service functions\r\n",
        "\r\n",
        "def last_to_zero_swp():\r\n",
        "    global cards\r\n",
        "    \r\n",
        "    # last go to begining of list\r\n",
        "    cards.insert(0, cards[-1])\r\n",
        "    cards.pop(-1)\r\n",
        "\r\n",
        "    return cards[-1]"
      ],
      "execution_count": 31,
      "outputs": []
    },
    {
      "cell_type": "code",
      "metadata": {
        "colab": {
          "base_uri": "https://localhost:8080/"
        },
        "id": "mGuRg7xjBISq",
        "outputId": "cd020754-eb9a-4814-d6d8-a937ffa1ec05"
      },
      "source": [
        "## First version of solution\r\n",
        "\r\n",
        "max_val = max(cards)\r\n",
        "min_val = min(cards)\r\n",
        "\r\n",
        "curr_item = cards[-1] \r\n",
        "curr_swap = 0\r\n",
        "\r\n",
        "\r\n",
        "\r\n",
        "while True:\r\n",
        "    if curr_swap >= len(cards):\r\n",
        "        break\r\n",
        "\r\n",
        "    # ascending order\r\n",
        "    if curr_item >= cards[-2]:\r\n",
        "        curr_item = last_to_zero_swp()\r\n",
        "\r\n",
        "    elif curr_item < cards[-2]:\r\n",
        "        # swap las two items\r\n",
        "        cards[-1], cards[-2] = cards[-2], cards[-1]\r\n",
        "\r\n",
        "        curr_item = last_to_zero_swp()\r\n",
        "        \r\n",
        "    if curr_item == max_val or curr_item == min_val:\r\n",
        "        curr_item = last_to_zero_swp()\r\n",
        "        curr_swap += 1      # count how many times we are swapping elements\r\n",
        "\r\n",
        "cards"
      ],
      "execution_count": 36,
      "outputs": [
        {
          "output_type": "execute_result",
          "data": {
            "text/plain": [
              "[1, 2, 2, 5, 5, 6, 7, 8, 9, 10, 10, 10, 11, 14, 16, 16, 17, 19, 19, 20]"
            ]
          },
          "metadata": {
            "tags": []
          },
          "execution_count": 36
        }
      ]
    },
    {
      "cell_type": "code",
      "metadata": {
        "colab": {
          "base_uri": "https://localhost:8080/"
        },
        "id": "ECYEjwWDTBWe",
        "outputId": "1325321c-6cce-458c-8570-504769bee705"
      },
      "source": [
        "## Optimized solution\r\n",
        "\r\n",
        "max_val = max(cards)\r\n",
        "min_val = min(cards)\r\n",
        "\r\n",
        "curr_swap = 0\r\n",
        "\r\n",
        "while True:\r\n",
        "    if curr_swap >= len(cards):\r\n",
        "        break\r\n",
        "\r\n",
        "    # ascending order\r\n",
        "    if cards[-1] >= cards[-2]:\r\n",
        "        _ = last_to_zero_swp() # dont want to change function return\r\n",
        "\r\n",
        "    elif cards[-1] < cards[-2]:\r\n",
        "        # swap las two items\r\n",
        "        cards[-1], cards[-2] = cards[-2], cards[-1]\r\n",
        "\r\n",
        "        _ = last_to_zero_swp()\r\n",
        "        \r\n",
        "    if cards[-1] == max_val or cards[-1] == min_val:\r\n",
        "        cards[-1] = last_to_zero_swp()\r\n",
        "        curr_swap += 1      # count how many times we are swapping elements\r\n",
        "\r\n",
        "cards"
      ],
      "execution_count": 40,
      "outputs": [
        {
          "output_type": "execute_result",
          "data": {
            "text/plain": [
              "[2, 5, 6, 6, 6, 7, 8, 10, 10, 10, 12, 12, 13, 15, 13, 15, 16, 16, 20, 20]"
            ]
          },
          "metadata": {
            "tags": []
          },
          "execution_count": 40
        }
      ]
    },
    {
      "cell_type": "markdown",
      "metadata": {
        "id": "dRi42NC2LyFP"
      },
      "source": [
        "Загальний алгоритм:\r\n",
        "\r\n",
        "Два останніх числа порівнюємо\r\n",
        "\r\n",
        "якщо останнє число мінімальне -- на початок\r\n",
        "\r\n",
        "якщо останнє число максимальне -- на початок\r\n",
        "\r\n",
        "якщо останнє число більше за передостаннє -- міняємо місцями і більше число на початок"
      ]
    },
    {
      "cell_type": "code",
      "metadata": {
        "id": "ibnDD80XCBzq"
      },
      "source": [
        ""
      ],
      "execution_count": null,
      "outputs": []
    }
  ]
}